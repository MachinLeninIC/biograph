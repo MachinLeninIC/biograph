{
 "cells": [
  {
   "cell_type": "code",
   "execution_count": 1,
   "metadata": {},
   "outputs": [],
   "source": [
    "from pyprot.protein import Protein"
   ]
  },
  {
   "cell_type": "markdown",
   "metadata": {},
   "source": [
    "First, let's load up some proteins."
   ]
  },
  {
   "cell_type": "code",
   "execution_count": 10,
   "metadata": {
    "collapsed": true
   },
   "outputs": [
    {
     "name": "stdout",
     "output_type": "stream",
     "text": [
      "['./1H3E.pdb']\n"
     ]
    },
    {
     "name": "stderr",
     "output_type": "stream",
     "text": [
      "/home/joaquintz/.local/lib/python3.6/site-packages/Bio/PDB/StructureBuilder.py:91: PDBConstructionWarning: WARNING: Chain A is discontinuous at line 5448.\n",
      "  PDBConstructionWarning)\n",
      "/home/joaquintz/.local/lib/python3.6/site-packages/Bio/PDB/StructureBuilder.py:91: PDBConstructionWarning: WARNING: Chain B is discontinuous at line 5499.\n",
      "  PDBConstructionWarning)\n",
      "/home/joaquintz/.local/lib/python3.6/site-packages/Bio/PDB/StructureBuilder.py:91: PDBConstructionWarning: WARNING: Chain A is discontinuous at line 5169.\n",
      "  PDBConstructionWarning)\n",
      "/home/joaquintz/.local/lib/python3.6/site-packages/Bio/PDB/StructureBuilder.py:91: PDBConstructionWarning: WARNING: Chain B is discontinuous at line 5200.\n",
      "  PDBConstructionWarning)\n",
      "/home/joaquintz/.local/lib/python3.6/site-packages/Bio/PDB/StructureBuilder.py:91: PDBConstructionWarning: WARNING: Chain A is discontinuous at line 5231.\n",
      "  PDBConstructionWarning)\n",
      "/home/joaquintz/.local/lib/python3.6/site-packages/Bio/PDB/StructureBuilder.py:91: PDBConstructionWarning: WARNING: Chain B is discontinuous at line 5316.\n",
      "  PDBConstructionWarning)\n"
     ]
    }
   ],
   "source": [
    "proteins = [\n",
    "    Protein.fetch(\"1H3E\"), # you can retrieve it from the PDB by id\n",
    "    Protein(\"1I7L.pdb\") # or you can just pass a file directly.\n",
    "]"
   ]
  },
  {
   "cell_type": "code",
   "execution_count": 12,
   "metadata": {},
   "outputs": [
    {
     "data": {
      "text/plain": [
       "[<Chain id=A>, <Chain id=B>]"
      ]
     },
     "execution_count": 12,
     "metadata": {},
     "output_type": "execute_result"
    }
   ],
   "source": [
    "list(proteins[1].pdb.get_chains())"
   ]
  },
  {
   "cell_type": "markdown",
   "metadata": {},
   "source": [
    "We automatically have a dataframe of the atoms for each protein:"
   ]
  },
  {
   "cell_type": "code",
   "execution_count": 13,
   "metadata": {},
   "outputs": [
    {
     "data": {
      "text/html": [
       "<div>\n",
       "<style scoped>\n",
       "    .dataframe tbody tr th:only-of-type {\n",
       "        vertical-align: middle;\n",
       "    }\n",
       "\n",
       "    .dataframe tbody tr th {\n",
       "        vertical-align: top;\n",
       "    }\n",
       "\n",
       "    .dataframe thead th {\n",
       "        text-align: right;\n",
       "    }\n",
       "</style>\n",
       "<table border=\"1\" class=\"dataframe\">\n",
       "  <thead>\n",
       "    <tr style=\"text-align: right;\">\n",
       "      <th></th>\n",
       "      <th>bfactor</th>\n",
       "      <th>chain</th>\n",
       "      <th>coord</th>\n",
       "      <th>disordered_flag</th>\n",
       "      <th>element</th>\n",
       "      <th>full_id</th>\n",
       "      <th>res_full_id</th>\n",
       "      <th>mass</th>\n",
       "      <th>resname</th>\n",
       "      <th>occupancy</th>\n",
       "      <th>x</th>\n",
       "      <th>y</th>\n",
       "      <th>z</th>\n",
       "    </tr>\n",
       "  </thead>\n",
       "  <tbody>\n",
       "    <tr>\n",
       "      <th>0</th>\n",
       "      <td>67.65</td>\n",
       "      <td>A</td>\n",
       "      <td>[119.906, 61.902, 77.413]</td>\n",
       "      <td>0</td>\n",
       "      <td>N</td>\n",
       "      <td>(1H3E, 0, A, ( , 6,  ), (N,  ))</td>\n",
       "      <td>(1H3E, 0, A, ( , 6,  ))</td>\n",
       "      <td>14.0067</td>\n",
       "      <td>HIS</td>\n",
       "      <td>1.0</td>\n",
       "      <td>119.905998</td>\n",
       "      <td>61.902000</td>\n",
       "      <td>77.413002</td>\n",
       "    </tr>\n",
       "    <tr>\n",
       "      <th>1</th>\n",
       "      <td>67.68</td>\n",
       "      <td>A</td>\n",
       "      <td>[119.998, 60.401, 77.41]</td>\n",
       "      <td>0</td>\n",
       "      <td>C</td>\n",
       "      <td>(1H3E, 0, A, ( , 6,  ), (CA,  ))</td>\n",
       "      <td>(1H3E, 0, A, ( , 6,  ))</td>\n",
       "      <td>12.0107</td>\n",
       "      <td>HIS</td>\n",
       "      <td>1.0</td>\n",
       "      <td>119.998001</td>\n",
       "      <td>60.401001</td>\n",
       "      <td>77.410004</td>\n",
       "    </tr>\n",
       "    <tr>\n",
       "      <th>2</th>\n",
       "      <td>67.12</td>\n",
       "      <td>A</td>\n",
       "      <td>[119.982, 59.836, 75.971]</td>\n",
       "      <td>0</td>\n",
       "      <td>C</td>\n",
       "      <td>(1H3E, 0, A, ( , 6,  ), (CB,  ))</td>\n",
       "      <td>(1H3E, 0, A, ( , 6,  ))</td>\n",
       "      <td>12.0107</td>\n",
       "      <td>HIS</td>\n",
       "      <td>1.0</td>\n",
       "      <td>119.982002</td>\n",
       "      <td>59.835999</td>\n",
       "      <td>75.971001</td>\n",
       "    </tr>\n",
       "    <tr>\n",
       "      <th>3</th>\n",
       "      <td>67.18</td>\n",
       "      <td>A</td>\n",
       "      <td>[119.58, 60.793, 74.893]</td>\n",
       "      <td>0</td>\n",
       "      <td>C</td>\n",
       "      <td>(1H3E, 0, A, ( , 6,  ), (CG,  ))</td>\n",
       "      <td>(1H3E, 0, A, ( , 6,  ))</td>\n",
       "      <td>12.0107</td>\n",
       "      <td>HIS</td>\n",
       "      <td>1.0</td>\n",
       "      <td>119.580002</td>\n",
       "      <td>60.792999</td>\n",
       "      <td>74.892998</td>\n",
       "    </tr>\n",
       "    <tr>\n",
       "      <th>4</th>\n",
       "      <td>66.87</td>\n",
       "      <td>A</td>\n",
       "      <td>[120.374, 61.868, 74.517]</td>\n",
       "      <td>0</td>\n",
       "      <td>N</td>\n",
       "      <td>(1H3E, 0, A, ( , 6,  ), (ND1,  ))</td>\n",
       "      <td>(1H3E, 0, A, ( , 6,  ))</td>\n",
       "      <td>14.0067</td>\n",
       "      <td>HIS</td>\n",
       "      <td>1.0</td>\n",
       "      <td>120.374001</td>\n",
       "      <td>61.868000</td>\n",
       "      <td>74.516998</td>\n",
       "    </tr>\n",
       "  </tbody>\n",
       "</table>\n",
       "</div>"
      ],
      "text/plain": [
       "   bfactor chain                      coord  disordered_flag element  \\\n",
       "0    67.65     A  [119.906, 61.902, 77.413]                0       N   \n",
       "1    67.68     A   [119.998, 60.401, 77.41]                0       C   \n",
       "2    67.12     A  [119.982, 59.836, 75.971]                0       C   \n",
       "3    67.18     A   [119.58, 60.793, 74.893]                0       C   \n",
       "4    66.87     A  [120.374, 61.868, 74.517]                0       N   \n",
       "\n",
       "                             full_id              res_full_id     mass  \\\n",
       "0    (1H3E, 0, A, ( , 6,  ), (N,  ))  (1H3E, 0, A, ( , 6,  ))  14.0067   \n",
       "1   (1H3E, 0, A, ( , 6,  ), (CA,  ))  (1H3E, 0, A, ( , 6,  ))  12.0107   \n",
       "2   (1H3E, 0, A, ( , 6,  ), (CB,  ))  (1H3E, 0, A, ( , 6,  ))  12.0107   \n",
       "3   (1H3E, 0, A, ( , 6,  ), (CG,  ))  (1H3E, 0, A, ( , 6,  ))  12.0107   \n",
       "4  (1H3E, 0, A, ( , 6,  ), (ND1,  ))  (1H3E, 0, A, ( , 6,  ))  14.0067   \n",
       "\n",
       "  resname  occupancy           x          y          z  \n",
       "0     HIS        1.0  119.905998  61.902000  77.413002  \n",
       "1     HIS        1.0  119.998001  60.401001  77.410004  \n",
       "2     HIS        1.0  119.982002  59.835999  75.971001  \n",
       "3     HIS        1.0  119.580002  60.792999  74.892998  \n",
       "4     HIS        1.0  120.374001  61.868000  74.516998  "
      ]
     },
     "execution_count": 13,
     "metadata": {},
     "output_type": "execute_result"
    }
   ],
   "source": [
    "proteins[0].df.head()"
   ]
  },
  {
   "cell_type": "markdown",
   "metadata": {},
   "source": [
    "We might want to add some features, a target distance for example:"
   ]
  },
  {
   "cell_type": "code",
   "execution_count": 15,
   "metadata": {},
   "outputs": [
    {
     "name": "stdout",
     "output_type": "stream",
     "text": [
      "Found 31 ATP atoms\n",
      "Found 62 ATP atoms\n"
     ]
    }
   ],
   "source": [
    "import numpy as np\n",
    "for protein in proteins:\n",
    "    protein.df = protein.df[~protein.df.coord.isnull()]\n",
    "    ATP_coords = protein.df[protein.df.resname == \"ATP\"].coord.to_list()\n",
    "    print(\"Found {} ATP atoms\".format(len(ATP_coords)))\n",
    "    protein.df[\"distance\"] = protein.df.coord.apply(\n",
    "        lambda atom: min(map(lambda atp_atom: np.linalg.norm(atom-atp_atom), ATP_coords))\n",
    "    )\n",
    "    #protein.discard_ligands()\n",
    "    # Sanity check\n",
    "    protein.df = protein.df.loc[\n",
    "        protein.df.apply(lambda row: row[\"full_id\"][4][0] == \"CA\", axis=1),\n",
    "        :].reset_index(drop=True)"
   ]
  },
  {
   "cell_type": "markdown",
   "metadata": {},
   "source": [
    "And discard ligands to keep only protein atoms:"
   ]
  },
  {
   "cell_type": "code",
   "execution_count": 27,
   "metadata": {},
   "outputs": [],
   "source": [
    "for protein in proteins:\n",
    "    chains_with_ligand = protein.df[protein.df.distance <= 6.0].chain.unique()\n",
    "    protein.select_chains(chains_with_ligand)"
   ]
  },
  {
   "cell_type": "markdown",
   "metadata": {},
   "source": [
    "Make a graph by Delauney triangulation:"
   ]
  },
  {
   "cell_type": "code",
   "execution_count": 29,
   "metadata": {},
   "outputs": [
    {
     "data": {
      "text/plain": [
       "<networkx.classes.graph.Graph at 0x7f395170f710>"
      ]
     },
     "execution_count": 29,
     "metadata": {},
     "output_type": "execute_result"
    }
   ],
   "source": [
    "from pyprot.structure import Perseus\n",
    "import pyprot.graph_models as graph_models\n",
    "structure = protein.generate_structure(lambda row: row[\"full_id\"][4][0] == \"CA\")\n",
    "\n",
    "perseus = Perseus()\n",
    "perseus.execute_persistent_hom(protein)\n",
    "\n",
    "structure_model = graph_models.StructureGraphGenerator()\n",
    "protein.generate_graph(structure_model,\n",
    "    {\"step\": structure.persistent_hom_params[\"b3_step\"]})"
   ]
  },
  {
   "cell_type": "code",
   "execution_count": 30,
   "metadata": {},
   "outputs": [
    {
     "data": {
      "text/plain": [
       "<networkx.classes.graph.Graph at 0x7f395170f710>"
      ]
     },
     "execution_count": 30,
     "metadata": {},
     "output_type": "execute_result"
    }
   ],
   "source": [
    "# Depth features\n",
    "depths, _ = structure.calculate_depth(protein.graph)\n",
    "for node_idx, depth in depths.items():\n",
    "    protein.graph.nodes[node_idx][\"depth\"] = depth\n",
    "\n",
    "# Rest of features\n",
    "structure_model.add_features(protein.df, columns = [\n",
    "    \"bfactor\", \"score\", \"color\",\n",
    "    \"color_confidence_interval_high\", \"color_confidence_interval_low\",\n",
    "    \"score_confidence_interval_high\", \"score_confidence_interval_low\",\n",
    "    \"resname\", \"coord\", \"distance\"\n",
    "])"
   ]
  },
  {
   "cell_type": "markdown",
   "metadata": {},
   "source": [
    "We can turn a graph into a dataframe by propagating features along neighbors:"
   ]
  },
  {
   "cell_type": "code",
   "execution_count": 35,
   "metadata": {},
   "outputs": [
    {
     "data": {
      "text/html": [
       "<div>\n",
       "<style scoped>\n",
       "    .dataframe tbody tr th:only-of-type {\n",
       "        vertical-align: middle;\n",
       "    }\n",
       "\n",
       "    .dataframe tbody tr th {\n",
       "        vertical-align: top;\n",
       "    }\n",
       "\n",
       "    .dataframe thead th {\n",
       "        text-align: right;\n",
       "    }\n",
       "</style>\n",
       "<table border=\"1\" class=\"dataframe\">\n",
       "  <thead>\n",
       "    <tr style=\"text-align: right;\">\n",
       "      <th></th>\n",
       "      <th>depth_1</th>\n",
       "      <th>bfactor_1</th>\n",
       "      <th>distance_1</th>\n",
       "      <th>full_id</th>\n",
       "      <th>depth</th>\n",
       "      <th>bfactor</th>\n",
       "      <th>resname</th>\n",
       "      <th>coord</th>\n",
       "      <th>distance</th>\n",
       "    </tr>\n",
       "  </thead>\n",
       "  <tbody>\n",
       "    <tr>\n",
       "      <th>0</th>\n",
       "      <td>4.438341</td>\n",
       "      <td>30.047143</td>\n",
       "      <td>34.550079</td>\n",
       "      <td>(1I7L, 0, A, ( , 113,  ), (CA,  ))</td>\n",
       "      <td>0.000000</td>\n",
       "      <td>39.58</td>\n",
       "      <td>LYS</td>\n",
       "      <td>[22.906, 96.881, 33.044]</td>\n",
       "      <td>38.680870</td>\n",
       "    </tr>\n",
       "    <tr>\n",
       "      <th>1</th>\n",
       "      <td>6.730040</td>\n",
       "      <td>29.493333</td>\n",
       "      <td>32.634772</td>\n",
       "      <td>(1I7L, 0, A, ( , 114,  ), (CA,  ))</td>\n",
       "      <td>3.857951</td>\n",
       "      <td>33.99</td>\n",
       "      <td>ALA</td>\n",
       "      <td>[23.368, 93.506, 31.233]</td>\n",
       "      <td>35.246246</td>\n",
       "    </tr>\n",
       "    <tr>\n",
       "      <th>2</th>\n",
       "      <td>7.020148</td>\n",
       "      <td>27.827647</td>\n",
       "      <td>31.869150</td>\n",
       "      <td>(1I7L, 0, A, ( , 115,  ), (CA,  ))</td>\n",
       "      <td>7.336214</td>\n",
       "      <td>29.89</td>\n",
       "      <td>LYS</td>\n",
       "      <td>[25.696, 90.591, 30.5]</td>\n",
       "      <td>32.552814</td>\n",
       "    </tr>\n",
       "    <tr>\n",
       "      <th>3</th>\n",
       "      <td>11.103894</td>\n",
       "      <td>24.057500</td>\n",
       "      <td>28.630311</td>\n",
       "      <td>(1I7L, 0, A, ( , 116,  ), (CA,  ))</td>\n",
       "      <td>10.299733</td>\n",
       "      <td>23.45</td>\n",
       "      <td>VAL</td>\n",
       "      <td>[25.603, 89.305, 26.891]</td>\n",
       "      <td>29.821009</td>\n",
       "    </tr>\n",
       "    <tr>\n",
       "      <th>4</th>\n",
       "      <td>10.563309</td>\n",
       "      <td>21.645263</td>\n",
       "      <td>26.083789</td>\n",
       "      <td>(1I7L, 0, A, ( , 117,  ), (CA,  ))</td>\n",
       "      <td>13.947106</td>\n",
       "      <td>19.20</td>\n",
       "      <td>LEU</td>\n",
       "      <td>[25.132, 85.563, 26.245]</td>\n",
       "      <td>26.119415</td>\n",
       "    </tr>\n",
       "  </tbody>\n",
       "</table>\n",
       "</div>"
      ],
      "text/plain": [
       "     depth_1  bfactor_1  distance_1                             full_id  \\\n",
       "0   4.438341  30.047143   34.550079  (1I7L, 0, A, ( , 113,  ), (CA,  ))   \n",
       "1   6.730040  29.493333   32.634772  (1I7L, 0, A, ( , 114,  ), (CA,  ))   \n",
       "2   7.020148  27.827647   31.869150  (1I7L, 0, A, ( , 115,  ), (CA,  ))   \n",
       "3  11.103894  24.057500   28.630311  (1I7L, 0, A, ( , 116,  ), (CA,  ))   \n",
       "4  10.563309  21.645263   26.083789  (1I7L, 0, A, ( , 117,  ), (CA,  ))   \n",
       "\n",
       "       depth  bfactor resname                     coord   distance  \n",
       "0   0.000000    39.58     LYS  [22.906, 96.881, 33.044]  38.680870  \n",
       "1   3.857951    33.99     ALA  [23.368, 93.506, 31.233]  35.246246  \n",
       "2   7.336214    29.89     LYS    [25.696, 90.591, 30.5]  32.552814  \n",
       "3  10.299733    23.45     VAL  [25.603, 89.305, 26.891]  29.821009  \n",
       "4  13.947106    19.20     LEU  [25.132, 85.563, 26.245]  26.119415  "
      ]
     },
     "execution_count": 35,
     "metadata": {},
     "output_type": "execute_result"
    }
   ],
   "source": [
    "graph_models.GraphModel.graph_to_dataframe(graph_models.GraphModel.get_diffused_graph(protein.graph)).head()"
   ]
  },
  {
   "cell_type": "markdown",
   "metadata": {},
   "source": [
    "Aaaand we can also make folds using sequence similarity:"
   ]
  },
  {
   "cell_type": "code",
   "execution_count": null,
   "metadata": {},
   "outputs": [],
   "source": []
  },
  {
   "cell_type": "markdown",
   "metadata": {},
   "source": []
  }
 ],
 "metadata": {
  "kernelspec": {
   "display_name": "Python 3",
   "language": "python",
   "name": "python3"
  },
  "language_info": {
   "codemirror_mode": {
    "name": "ipython",
    "version": 3
   },
   "file_extension": ".py",
   "mimetype": "text/x-python",
   "name": "python",
   "nbconvert_exporter": "python",
   "pygments_lexer": "ipython3",
   "version": "3.6.8"
  }
 },
 "nbformat": 4,
 "nbformat_minor": 2
}
