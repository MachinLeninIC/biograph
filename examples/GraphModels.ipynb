{
 "cells": [
  {
   "cell_type": "code",
   "execution_count": null,
   "metadata": {},
   "outputs": [],
   "source": [
    "import os\n",
    "os.chdir(\"../\")\n",
    "from biograph import protein\n",
    "from biograph import graph_models\n",
    "from biograph import structure"
   ]
  },
  {
   "cell_type": "markdown",
   "metadata": {},
   "source": [
    "###  Protein and features setup"
   ]
  },
  {
   "cell_type": "code",
   "execution_count": null,
   "metadata": {
    "scrolled": true
   },
   "outputs": [],
   "source": [
    "p = protein.Protein(\"6std.pdb\")\n",
    "features = p.get_conservation_features(\"consurf6std\", None)\n",
    "p.add_residue_features(features)\n",
    "p.df.head()"
   ]
  },
  {
   "cell_type": "markdown",
   "metadata": {},
   "source": [
    "### Static Contact Graph"
   ]
  },
  {
   "cell_type": "code",
   "execution_count": null,
   "metadata": {},
   "outputs": [],
   "source": [
    "contact_model = graph_models.StaticContactGraphGenerator()\n",
    "graph = p.generate_graph(contact_model, {})\n",
    "contact_model.G.nodes[\"C:ASP:31\"]"
   ]
  },
  {
   "cell_type": "markdown",
   "metadata": {},
   "source": [
    "We can also add the residue-level features:"
   ]
  },
  {
   "cell_type": "code",
   "execution_count": null,
   "metadata": {},
   "outputs": [],
   "source": [
    "\n",
    "contact_model.add_features(p.df)\n",
    "contact_model.G.nodes[\"C:ASP:31\"]"
   ]
  },
  {
   "cell_type": "markdown",
   "metadata": {},
   "source": [
    "### Structure Graph"
   ]
  },
  {
   "cell_type": "code",
   "execution_count": null,
   "metadata": {},
   "outputs": [],
   "source": [
    "# Here we select only alpha carbon atoms as a representative for each residue.\n",
    "p.generate_structure(lambda row: row[\"full_id\"][4][0] == \"CA\")\n",
    "%matplotlib inline\n",
    "p.structure.plot(389, 5)"
   ]
  },
  {
   "cell_type": "code",
   "execution_count": null,
   "metadata": {},
   "outputs": [],
   "source": [
    "# Run the persistent homology algorithm.\n",
    "perseus = structure.Perseus()\n",
    "perseus.execute_persistent_hom(p)\n",
    "p.structure.persistent_hom_params"
   ]
  },
  {
   "cell_type": "code",
   "execution_count": null,
   "metadata": {},
   "outputs": [],
   "source": [
    "# Actually generate the graph model.\n",
    "structure_model = graph_models.StructureGraphGenerator()\n",
    "p.generate_graph(structure_model, {\"step\":1389})\n",
    "structure_model.G.nodes[2]"
   ]
  },
  {
   "cell_type": "markdown",
   "metadata": {},
   "source": [
    "Likewise, we can add features for each of the alpha carbon atoms that we selected before."
   ]
  },
  {
   "cell_type": "code",
   "execution_count": null,
   "metadata": {},
   "outputs": [],
   "source": [
    "structure_model.add_features(p.df)\n",
    "structure_model.G.nodes[2]"
   ]
  }
 ],
 "metadata": {
  "kernelspec": {
   "display_name": "Python 3",
   "language": "python",
   "name": "python3"
  },
  "language_info": {
   "codemirror_mode": {
    "name": "ipython",
    "version": 3
   },
   "file_extension": ".py",
   "mimetype": "text/x-python",
   "name": "python",
   "nbconvert_exporter": "python",
   "pygments_lexer": "ipython3",
   "version": "3.6.8"
  }
 },
 "nbformat": 4,
 "nbformat_minor": 2
}
