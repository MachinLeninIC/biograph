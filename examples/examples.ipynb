{
 "cells": [
  {
   "cell_type": "markdown",
   "metadata": {},
   "source": [
    "## Introduction"
   ]
  },
  {
   "cell_type": "markdown",
   "metadata": {},
   "source": [
    "### Importing data"
   ]
  },
  {
   "cell_type": "code",
   "execution_count": 1,
   "metadata": {
    "collapsed": true
   },
   "outputs": [],
   "source": [
    "from pyprot.protein import Protein"
   ]
  },
  {
   "cell_type": "markdown",
   "metadata": {},
   "source": [
    "PDB can be imported directly from its path or from a Bio.PDB.Structure.Structure"
   ]
  },
  {
   "cell_type": "code",
   "execution_count": 2,
   "metadata": {},
   "outputs": [
    {
     "data": {
      "text/plain": [
       "<pyprot.protein.Protein at 0x7f6f145bd0b8>"
      ]
     },
     "execution_count": 2,
     "metadata": {},
     "output_type": "execute_result"
    }
   ],
   "source": [
    "# From a filepath\n",
    "Protein(\"2XJX.pdb\")"
   ]
  },
  {
   "cell_type": "code",
   "execution_count": 3,
   "metadata": {},
   "outputs": [
    {
     "data": {
      "text/plain": [
       "<pyprot.protein.Protein at 0x7f6f4c0c6be0>"
      ]
     },
     "execution_count": 3,
     "metadata": {},
     "output_type": "execute_result"
    }
   ],
   "source": [
    "# From a biopython object\n",
    "from Bio.PDB import PDBParser\n",
    "parser = PDBParser()\n",
    "pdb = parser.get_structure(\"pdb_id\", \"2XJX.pdb\")\n",
    "Protein(pdb)"
   ]
  },
  {
   "cell_type": "markdown",
   "metadata": {},
   "source": [
    "## pandas.DataFrame functions"
   ]
  },
  {
   "cell_type": "code",
   "execution_count": 4,
   "metadata": {
    "collapsed": true
   },
   "outputs": [],
   "source": [
    "prot = Protein(pdb)"
   ]
  },
  {
   "cell_type": "code",
   "execution_count": 5,
   "metadata": {},
   "outputs": [
    {
     "data": {
      "text/html": [
       "<div>\n",
       "<style scoped>\n",
       "    .dataframe tbody tr th:only-of-type {\n",
       "        vertical-align: middle;\n",
       "    }\n",
       "\n",
       "    .dataframe tbody tr th {\n",
       "        vertical-align: top;\n",
       "    }\n",
       "\n",
       "    .dataframe thead th {\n",
       "        text-align: right;\n",
       "    }\n",
       "</style>\n",
       "<table border=\"1\" class=\"dataframe\">\n",
       "  <thead>\n",
       "    <tr style=\"text-align: right;\">\n",
       "      <th></th>\n",
       "      <th>bfactor</th>\n",
       "      <th>chain</th>\n",
       "      <th>coord</th>\n",
       "      <th>disordered_flag</th>\n",
       "      <th>element</th>\n",
       "      <th>full_id</th>\n",
       "      <th>mass</th>\n",
       "      <th>resname</th>\n",
       "      <th>occupancy</th>\n",
       "      <th>x</th>\n",
       "      <th>y</th>\n",
       "      <th>z</th>\n",
       "    </tr>\n",
       "  </thead>\n",
       "  <tbody>\n",
       "    <tr>\n",
       "      <th>0</th>\n",
       "      <td>34.75</td>\n",
       "      <td>A</td>\n",
       "      <td>[34.384, 9.301, 30.781]</td>\n",
       "      <td>0.0</td>\n",
       "      <td>N</td>\n",
       "      <td>(pdb_id, 0, A, ( , 11,  ), (N,  ))</td>\n",
       "      <td>14.0067</td>\n",
       "      <td>PRO</td>\n",
       "      <td>1.0</td>\n",
       "      <td>34.384</td>\n",
       "      <td>9.301</td>\n",
       "      <td>30.781</td>\n",
       "    </tr>\n",
       "    <tr>\n",
       "      <th>1</th>\n",
       "      <td>35.93</td>\n",
       "      <td>A</td>\n",
       "      <td>[35.484, 8.424, 30.523]</td>\n",
       "      <td>0.0</td>\n",
       "      <td>C</td>\n",
       "      <td>(pdb_id, 0, A, ( , 11,  ), (CA,  ))</td>\n",
       "      <td>12.0107</td>\n",
       "      <td>PRO</td>\n",
       "      <td>1.0</td>\n",
       "      <td>35.484</td>\n",
       "      <td>8.424</td>\n",
       "      <td>30.523</td>\n",
       "    </tr>\n",
       "    <tr>\n",
       "      <th>2</th>\n",
       "      <td>36.26</td>\n",
       "      <td>A</td>\n",
       "      <td>[36.65, 9.185, 31.133]</td>\n",
       "      <td>0.0</td>\n",
       "      <td>C</td>\n",
       "      <td>(pdb_id, 0, A, ( , 11,  ), (CB,  ))</td>\n",
       "      <td>12.0107</td>\n",
       "      <td>PRO</td>\n",
       "      <td>1.0</td>\n",
       "      <td>36.65</td>\n",
       "      <td>9.185</td>\n",
       "      <td>31.133</td>\n",
       "    </tr>\n",
       "    <tr>\n",
       "      <th>3</th>\n",
       "      <td>36.50</td>\n",
       "      <td>A</td>\n",
       "      <td>[36.335, 10.577, 30.706]</td>\n",
       "      <td>0.0</td>\n",
       "      <td>C</td>\n",
       "      <td>(pdb_id, 0, A, ( , 11,  ), (CG,  ))</td>\n",
       "      <td>12.0107</td>\n",
       "      <td>PRO</td>\n",
       "      <td>1.0</td>\n",
       "      <td>36.335</td>\n",
       "      <td>10.577</td>\n",
       "      <td>30.706</td>\n",
       "    </tr>\n",
       "    <tr>\n",
       "      <th>4</th>\n",
       "      <td>36.32</td>\n",
       "      <td>A</td>\n",
       "      <td>[34.824, 10.693, 30.664]</td>\n",
       "      <td>0.0</td>\n",
       "      <td>C</td>\n",
       "      <td>(pdb_id, 0, A, ( , 11,  ), (CD,  ))</td>\n",
       "      <td>12.0107</td>\n",
       "      <td>PRO</td>\n",
       "      <td>1.0</td>\n",
       "      <td>34.824</td>\n",
       "      <td>10.693</td>\n",
       "      <td>30.664</td>\n",
       "    </tr>\n",
       "    <tr>\n",
       "      <th>5</th>\n",
       "      <td>36.38</td>\n",
       "      <td>A</td>\n",
       "      <td>[35.266, 7.063, 31.134]</td>\n",
       "      <td>0.0</td>\n",
       "      <td>C</td>\n",
       "      <td>(pdb_id, 0, A, ( , 11,  ), (C,  ))</td>\n",
       "      <td>12.0107</td>\n",
       "      <td>PRO</td>\n",
       "      <td>1.0</td>\n",
       "      <td>35.266</td>\n",
       "      <td>7.063</td>\n",
       "      <td>31.134</td>\n",
       "    </tr>\n",
       "    <tr>\n",
       "      <th>6</th>\n",
       "      <td>39.92</td>\n",
       "      <td>A</td>\n",
       "      <td>[34.124, 6.624, 31.188]</td>\n",
       "      <td>0.0</td>\n",
       "      <td>O</td>\n",
       "      <td>(pdb_id, 0, A, ( , 11,  ), (O,  ))</td>\n",
       "      <td>15.9994</td>\n",
       "      <td>PRO</td>\n",
       "      <td>1.0</td>\n",
       "      <td>34.124</td>\n",
       "      <td>6.624</td>\n",
       "      <td>31.188</td>\n",
       "    </tr>\n",
       "    <tr>\n",
       "      <th>7</th>\n",
       "      <td>36.02</td>\n",
       "      <td>A</td>\n",
       "      <td>[36.328, 6.399, 31.581]</td>\n",
       "      <td>0.0</td>\n",
       "      <td>N</td>\n",
       "      <td>(pdb_id, 0, A, ( , 12,  ), (N,  ))</td>\n",
       "      <td>14.0067</td>\n",
       "      <td>MET</td>\n",
       "      <td>1.0</td>\n",
       "      <td>36.328</td>\n",
       "      <td>6.399</td>\n",
       "      <td>31.581</td>\n",
       "    </tr>\n",
       "    <tr>\n",
       "      <th>8</th>\n",
       "      <td>34.70</td>\n",
       "      <td>A</td>\n",
       "      <td>[36.363, 4.945, 31.562]</td>\n",
       "      <td>0.0</td>\n",
       "      <td>C</td>\n",
       "      <td>(pdb_id, 0, A, ( , 12,  ), (CA,  ))</td>\n",
       "      <td>12.0107</td>\n",
       "      <td>MET</td>\n",
       "      <td>1.0</td>\n",
       "      <td>36.363</td>\n",
       "      <td>4.945</td>\n",
       "      <td>31.562</td>\n",
       "    </tr>\n",
       "    <tr>\n",
       "      <th>9</th>\n",
       "      <td>36.89</td>\n",
       "      <td>A</td>\n",
       "      <td>[35.567, 4.32, 32.727]</td>\n",
       "      <td>0.0</td>\n",
       "      <td>C</td>\n",
       "      <td>(pdb_id, 0, A, ( , 12,  ), (CB,  ))</td>\n",
       "      <td>12.0107</td>\n",
       "      <td>MET</td>\n",
       "      <td>1.0</td>\n",
       "      <td>35.567</td>\n",
       "      <td>4.32</td>\n",
       "      <td>32.727</td>\n",
       "    </tr>\n",
       "  </tbody>\n",
       "</table>\n",
       "</div>"
      ],
      "text/plain": [
       "   bfactor chain                     coord  disordered_flag element  \\\n",
       "0    34.75     A   [34.384, 9.301, 30.781]              0.0       N   \n",
       "1    35.93     A   [35.484, 8.424, 30.523]              0.0       C   \n",
       "2    36.26     A    [36.65, 9.185, 31.133]              0.0       C   \n",
       "3    36.50     A  [36.335, 10.577, 30.706]              0.0       C   \n",
       "4    36.32     A  [34.824, 10.693, 30.664]              0.0       C   \n",
       "5    36.38     A   [35.266, 7.063, 31.134]              0.0       C   \n",
       "6    39.92     A   [34.124, 6.624, 31.188]              0.0       O   \n",
       "7    36.02     A   [36.328, 6.399, 31.581]              0.0       N   \n",
       "8    34.70     A   [36.363, 4.945, 31.562]              0.0       C   \n",
       "9    36.89     A    [35.567, 4.32, 32.727]              0.0       C   \n",
       "\n",
       "                               full_id     mass resname  occupancy       x  \\\n",
       "0   (pdb_id, 0, A, ( , 11,  ), (N,  ))  14.0067     PRO        1.0  34.384   \n",
       "1  (pdb_id, 0, A, ( , 11,  ), (CA,  ))  12.0107     PRO        1.0  35.484   \n",
       "2  (pdb_id, 0, A, ( , 11,  ), (CB,  ))  12.0107     PRO        1.0   36.65   \n",
       "3  (pdb_id, 0, A, ( , 11,  ), (CG,  ))  12.0107     PRO        1.0  36.335   \n",
       "4  (pdb_id, 0, A, ( , 11,  ), (CD,  ))  12.0107     PRO        1.0  34.824   \n",
       "5   (pdb_id, 0, A, ( , 11,  ), (C,  ))  12.0107     PRO        1.0  35.266   \n",
       "6   (pdb_id, 0, A, ( , 11,  ), (O,  ))  15.9994     PRO        1.0  34.124   \n",
       "7   (pdb_id, 0, A, ( , 12,  ), (N,  ))  14.0067     MET        1.0  36.328   \n",
       "8  (pdb_id, 0, A, ( , 12,  ), (CA,  ))  12.0107     MET        1.0  36.363   \n",
       "9  (pdb_id, 0, A, ( , 12,  ), (CB,  ))  12.0107     MET        1.0  35.567   \n",
       "\n",
       "        y       z  \n",
       "0   9.301  30.781  \n",
       "1   8.424  30.523  \n",
       "2   9.185  31.133  \n",
       "3  10.577  30.706  \n",
       "4  10.693  30.664  \n",
       "5   7.063  31.134  \n",
       "6   6.624  31.188  \n",
       "7   6.399  31.581  \n",
       "8   4.945  31.562  \n",
       "9    4.32  32.727  "
      ]
     },
     "execution_count": 5,
     "metadata": {},
     "output_type": "execute_result"
    }
   ],
   "source": [
    "# Get head of DataFrame representation\n",
    "prot.head()"
   ]
  },
  {
   "cell_type": "code",
   "execution_count": 6,
   "metadata": {},
   "outputs": [
    {
     "data": {
      "text/plain": [
       "0    pro\n",
       "1    pro\n",
       "2    pro\n",
       "3    pro\n",
       "4    pro\n",
       "Name: resname, dtype: object"
      ]
     },
     "execution_count": 6,
     "metadata": {},
     "output_type": "execute_result"
    }
   ],
   "source": [
    "# access DataFrame\n",
    "prot.df.resname.str.lower().head()"
   ]
  },
  {
   "cell_type": "markdown",
   "metadata": {},
   "source": [
    "You can choose whether to initialize the DataFrame when generating Protein or not, in which case will need to call Protein.generate_dataframe()"
   ]
  },
  {
   "cell_type": "code",
   "execution_count": 7,
   "metadata": {
    "collapsed": true
   },
   "outputs": [],
   "source": [
    "prot = Protein(pdb, generate_dataframe=False)\n",
    "prot.df # nothing happens!"
   ]
  },
  {
   "cell_type": "markdown",
   "metadata": {},
   "source": [
    "So first you will need to call "
   ]
  },
  {
   "cell_type": "code",
   "execution_count": 8,
   "metadata": {
    "collapsed": true
   },
   "outputs": [],
   "source": [
    "prot.generate_dataframe()"
   ]
  },
  {
   "cell_type": "code",
   "execution_count": 9,
   "metadata": {},
   "outputs": [
    {
     "data": {
      "text/plain": [
       "0    pro\n",
       "1    pro\n",
       "2    pro\n",
       "3    pro\n",
       "4    pro\n",
       "Name: resname, dtype: object"
      ]
     },
     "execution_count": 9,
     "metadata": {},
     "output_type": "execute_result"
    }
   ],
   "source": [
    "prot.df.resname.str.lower().head()"
   ]
  },
  {
   "cell_type": "markdown",
   "metadata": {},
   "source": [
    "When generating the DataFrame you can choose to raise an exception or not if there are null values in coordinates column. Default is not to raise error but to generate null values, but you can change this behaviour."
   ]
  },
  {
   "cell_type": "code",
   "execution_count": 10,
   "metadata": {},
   "outputs": [
    {
     "data": {
      "text/plain": [
       "(1950, 12)"
      ]
     },
     "execution_count": 10,
     "metadata": {},
     "output_type": "execute_result"
    }
   ],
   "source": [
    "prot.df[~prot.df.coord.isnull()].shape # not-null coordinates"
   ]
  },
  {
   "cell_type": "code",
   "execution_count": 11,
   "metadata": {},
   "outputs": [
    {
     "data": {
      "text/plain": [
       "(20, 12)"
      ]
     },
     "execution_count": 11,
     "metadata": {},
     "output_type": "execute_result"
    }
   ],
   "source": [
    "prot.df[prot.df.coord.isnull()].shape # null coordinates"
   ]
  },
  {
   "cell_type": "markdown",
   "metadata": {},
   "source": [
    "## Graph models"
   ]
  },
  {
   "cell_type": "code",
   "execution_count": 13,
   "metadata": {},
   "outputs": [],
   "source": [
    "from pyprot.graph_models import StructureGraphGenerator"
   ]
  },
  {
   "cell_type": "code",
   "execution_count": 15,
   "metadata": {},
   "outputs": [],
   "source": [
    "sgraph = StructureGraphGenerator()"
   ]
  },
  {
   "cell_type": "code",
   "execution_count": null,
   "metadata": {
    "collapsed": true
   },
   "outputs": [],
   "source": []
  }
 ],
 "metadata": {
  "kernelspec": {
   "display_name": "Python 3",
   "language": "python",
   "name": "python3"
  },
  "language_info": {
   "codemirror_mode": {
    "name": "ipython",
    "version": 3
   },
   "file_extension": ".py",
   "mimetype": "text/x-python",
   "name": "python",
   "nbconvert_exporter": "python",
   "pygments_lexer": "ipython3",
   "version": "3.6.2"
  }
 },
 "nbformat": 4,
 "nbformat_minor": 2
}
