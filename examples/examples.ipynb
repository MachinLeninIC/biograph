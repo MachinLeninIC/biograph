{
 "cells": [
  {
   "cell_type": "markdown",
   "metadata": {},
   "source": [
    "## Introduction"
   ]
  },
  {
   "cell_type": "markdown",
   "metadata": {},
   "source": [
    "### Importing data"
   ]
  },
  {
   "cell_type": "code",
   "execution_count": 1,
   "metadata": {
    "collapsed": true
   },
   "outputs": [],
   "source": [
    "from biograph.protein import Protein"
   ]
  },
  {
   "cell_type": "markdown",
   "metadata": {},
   "source": [
    "PDB can be imported directly from its path or from a Bio.PDB.Structure.Structure"
   ]
  },
  {
   "cell_type": "code",
   "execution_count": 3,
   "metadata": {},
   "outputs": [
    {
     "data": {
      "text/plain": [
       "<biograph.protein.Protein at 0x7ff2625119e8>"
      ]
     },
     "execution_count": 3,
     "metadata": {},
     "output_type": "execute_result"
    }
   ],
   "source": [
    "# From a filepath\n",
    "Protein(\"1A3Z.pdb\")"
   ]
  },
  {
   "cell_type": "code",
   "execution_count": 5,
   "metadata": {},
   "outputs": [
    {
     "data": {
      "text/plain": [
       "<biograph.protein.Protein at 0x7ff26224a0b8>"
      ]
     },
     "execution_count": 5,
     "metadata": {},
     "output_type": "execute_result"
    }
   ],
   "source": [
    "# From a biopython object\n",
    "from Bio.PDB import PDBParser\n",
    "parser = PDBParser()\n",
    "pdb = parser.get_structure(\"pdb_id\", \"1A3Z.pdb\")\n",
    "Protein(pdb)"
   ]
  },
  {
   "cell_type": "markdown",
   "metadata": {},
   "source": [
    "## pandas.DataFrame functions"
   ]
  },
  {
   "cell_type": "code",
   "execution_count": 6,
   "metadata": {
    "collapsed": true
   },
   "outputs": [],
   "source": [
    "prot = Protein(pdb)"
   ]
  },
  {
   "cell_type": "code",
   "execution_count": 7,
   "metadata": {},
   "outputs": [
    {
     "data": {
      "text/html": [
       "<div>\n",
       "<style scoped>\n",
       "    .dataframe tbody tr th:only-of-type {\n",
       "        vertical-align: middle;\n",
       "    }\n",
       "\n",
       "    .dataframe tbody tr th {\n",
       "        vertical-align: top;\n",
       "    }\n",
       "\n",
       "    .dataframe thead th {\n",
       "        text-align: right;\n",
       "    }\n",
       "</style>\n",
       "<table border=\"1\" class=\"dataframe\">\n",
       "  <thead>\n",
       "    <tr style=\"text-align: right;\">\n",
       "      <th></th>\n",
       "      <th>bfactor</th>\n",
       "      <th>chain</th>\n",
       "      <th>coord</th>\n",
       "      <th>disordered_flag</th>\n",
       "      <th>element</th>\n",
       "      <th>full_id</th>\n",
       "      <th>mass</th>\n",
       "      <th>resname</th>\n",
       "      <th>occupancy</th>\n",
       "      <th>x</th>\n",
       "      <th>y</th>\n",
       "      <th>z</th>\n",
       "    </tr>\n",
       "  </thead>\n",
       "  <tbody>\n",
       "    <tr>\n",
       "      <th>0</th>\n",
       "      <td>24.56</td>\n",
       "      <td>A</td>\n",
       "      <td>[-13.443, 0.459, 26.82]</td>\n",
       "      <td>0</td>\n",
       "      <td>N</td>\n",
       "      <td>(pdb_id, 0, A, ( , 6,  ), (N,  ))</td>\n",
       "      <td>14.0067</td>\n",
       "      <td>THR</td>\n",
       "      <td>1.0</td>\n",
       "      <td>-13.443</td>\n",
       "      <td>0.459</td>\n",
       "      <td>26.820000</td>\n",
       "    </tr>\n",
       "    <tr>\n",
       "      <th>1</th>\n",
       "      <td>24.95</td>\n",
       "      <td>A</td>\n",
       "      <td>[-12.624, 0.502, 28.063]</td>\n",
       "      <td>0</td>\n",
       "      <td>C</td>\n",
       "      <td>(pdb_id, 0, A, ( , 6,  ), (CA,  ))</td>\n",
       "      <td>12.0107</td>\n",
       "      <td>THR</td>\n",
       "      <td>1.0</td>\n",
       "      <td>-12.624</td>\n",
       "      <td>0.502</td>\n",
       "      <td>28.063000</td>\n",
       "    </tr>\n",
       "    <tr>\n",
       "      <th>2</th>\n",
       "      <td>26.52</td>\n",
       "      <td>A</td>\n",
       "      <td>[-13.312, -0.216, 29.261]</td>\n",
       "      <td>0</td>\n",
       "      <td>C</td>\n",
       "      <td>(pdb_id, 0, A, ( , 6,  ), (CB,  ))</td>\n",
       "      <td>12.0107</td>\n",
       "      <td>THR</td>\n",
       "      <td>1.0</td>\n",
       "      <td>-13.312</td>\n",
       "      <td>-0.216</td>\n",
       "      <td>29.261000</td>\n",
       "    </tr>\n",
       "    <tr>\n",
       "      <th>3</th>\n",
       "      <td>29.76</td>\n",
       "      <td>A</td>\n",
       "      <td>[-14.35, -1.084, 28.788]</td>\n",
       "      <td>0</td>\n",
       "      <td>O</td>\n",
       "      <td>(pdb_id, 0, A, ( , 6,  ), (OG1,  ))</td>\n",
       "      <td>15.9994</td>\n",
       "      <td>THR</td>\n",
       "      <td>1.0</td>\n",
       "      <td>-14.350</td>\n",
       "      <td>-1.084</td>\n",
       "      <td>28.788000</td>\n",
       "    </tr>\n",
       "    <tr>\n",
       "      <th>4</th>\n",
       "      <td>26.72</td>\n",
       "      <td>A</td>\n",
       "      <td>[-13.915, 0.806, 30.256]</td>\n",
       "      <td>0</td>\n",
       "      <td>C</td>\n",
       "      <td>(pdb_id, 0, A, ( , 6,  ), (CG2,  ))</td>\n",
       "      <td>12.0107</td>\n",
       "      <td>THR</td>\n",
       "      <td>1.0</td>\n",
       "      <td>-13.915</td>\n",
       "      <td>0.806</td>\n",
       "      <td>30.256001</td>\n",
       "    </tr>\n",
       "    <tr>\n",
       "      <th>5</th>\n",
       "      <td>22.90</td>\n",
       "      <td>A</td>\n",
       "      <td>[-11.224, -0.087, 27.826]</td>\n",
       "      <td>0</td>\n",
       "      <td>C</td>\n",
       "      <td>(pdb_id, 0, A, ( , 6,  ), (C,  ))</td>\n",
       "      <td>12.0107</td>\n",
       "      <td>THR</td>\n",
       "      <td>1.0</td>\n",
       "      <td>-11.224</td>\n",
       "      <td>-0.087</td>\n",
       "      <td>27.826000</td>\n",
       "    </tr>\n",
       "    <tr>\n",
       "      <th>6</th>\n",
       "      <td>25.05</td>\n",
       "      <td>A</td>\n",
       "      <td>[-11.068, -1.125, 27.18]</td>\n",
       "      <td>0</td>\n",
       "      <td>O</td>\n",
       "      <td>(pdb_id, 0, A, ( , 6,  ), (O,  ))</td>\n",
       "      <td>15.9994</td>\n",
       "      <td>THR</td>\n",
       "      <td>1.0</td>\n",
       "      <td>-11.068</td>\n",
       "      <td>-1.125</td>\n",
       "      <td>27.180000</td>\n",
       "    </tr>\n",
       "    <tr>\n",
       "      <th>7</th>\n",
       "      <td>19.31</td>\n",
       "      <td>A</td>\n",
       "      <td>[-10.219, 0.582, 28.379]</td>\n",
       "      <td>0</td>\n",
       "      <td>N</td>\n",
       "      <td>(pdb_id, 0, A, ( , 7,  ), (N,  ))</td>\n",
       "      <td>14.0067</td>\n",
       "      <td>TRP</td>\n",
       "      <td>1.0</td>\n",
       "      <td>-10.219</td>\n",
       "      <td>0.582</td>\n",
       "      <td>28.379000</td>\n",
       "    </tr>\n",
       "    <tr>\n",
       "      <th>8</th>\n",
       "      <td>17.27</td>\n",
       "      <td>A</td>\n",
       "      <td>[-8.832, 0.148, 28.283]</td>\n",
       "      <td>0</td>\n",
       "      <td>C</td>\n",
       "      <td>(pdb_id, 0, A, ( , 7,  ), (CA,  ))</td>\n",
       "      <td>12.0107</td>\n",
       "      <td>TRP</td>\n",
       "      <td>1.0</td>\n",
       "      <td>-8.832</td>\n",
       "      <td>0.148</td>\n",
       "      <td>28.283001</td>\n",
       "    </tr>\n",
       "    <tr>\n",
       "      <th>9</th>\n",
       "      <td>18.25</td>\n",
       "      <td>A</td>\n",
       "      <td>[-7.924, 1.371, 28.266]</td>\n",
       "      <td>0</td>\n",
       "      <td>C</td>\n",
       "      <td>(pdb_id, 0, A, ( , 7,  ), (CB,  ))</td>\n",
       "      <td>12.0107</td>\n",
       "      <td>TRP</td>\n",
       "      <td>1.0</td>\n",
       "      <td>-7.924</td>\n",
       "      <td>1.371</td>\n",
       "      <td>28.266001</td>\n",
       "    </tr>\n",
       "  </tbody>\n",
       "</table>\n",
       "</div>"
      ],
      "text/plain": [
       "   bfactor chain                      coord  disordered_flag element  \\\n",
       "0    24.56     A    [-13.443, 0.459, 26.82]                0       N   \n",
       "1    24.95     A   [-12.624, 0.502, 28.063]                0       C   \n",
       "2    26.52     A  [-13.312, -0.216, 29.261]                0       C   \n",
       "3    29.76     A   [-14.35, -1.084, 28.788]                0       O   \n",
       "4    26.72     A   [-13.915, 0.806, 30.256]                0       C   \n",
       "5    22.90     A  [-11.224, -0.087, 27.826]                0       C   \n",
       "6    25.05     A   [-11.068, -1.125, 27.18]                0       O   \n",
       "7    19.31     A   [-10.219, 0.582, 28.379]                0       N   \n",
       "8    17.27     A    [-8.832, 0.148, 28.283]                0       C   \n",
       "9    18.25     A    [-7.924, 1.371, 28.266]                0       C   \n",
       "\n",
       "                               full_id     mass resname  occupancy       x  \\\n",
       "0    (pdb_id, 0, A, ( , 6,  ), (N,  ))  14.0067     THR        1.0 -13.443   \n",
       "1   (pdb_id, 0, A, ( , 6,  ), (CA,  ))  12.0107     THR        1.0 -12.624   \n",
       "2   (pdb_id, 0, A, ( , 6,  ), (CB,  ))  12.0107     THR        1.0 -13.312   \n",
       "3  (pdb_id, 0, A, ( , 6,  ), (OG1,  ))  15.9994     THR        1.0 -14.350   \n",
       "4  (pdb_id, 0, A, ( , 6,  ), (CG2,  ))  12.0107     THR        1.0 -13.915   \n",
       "5    (pdb_id, 0, A, ( , 6,  ), (C,  ))  12.0107     THR        1.0 -11.224   \n",
       "6    (pdb_id, 0, A, ( , 6,  ), (O,  ))  15.9994     THR        1.0 -11.068   \n",
       "7    (pdb_id, 0, A, ( , 7,  ), (N,  ))  14.0067     TRP        1.0 -10.219   \n",
       "8   (pdb_id, 0, A, ( , 7,  ), (CA,  ))  12.0107     TRP        1.0  -8.832   \n",
       "9   (pdb_id, 0, A, ( , 7,  ), (CB,  ))  12.0107     TRP        1.0  -7.924   \n",
       "\n",
       "       y          z  \n",
       "0  0.459  26.820000  \n",
       "1  0.502  28.063000  \n",
       "2 -0.216  29.261000  \n",
       "3 -1.084  28.788000  \n",
       "4  0.806  30.256001  \n",
       "5 -0.087  27.826000  \n",
       "6 -1.125  27.180000  \n",
       "7  0.582  28.379000  \n",
       "8  0.148  28.283001  \n",
       "9  1.371  28.266001  "
      ]
     },
     "execution_count": 7,
     "metadata": {},
     "output_type": "execute_result"
    }
   ],
   "source": [
    "# Get head of DataFrame representation\n",
    "prot.head()"
   ]
  },
  {
   "cell_type": "code",
   "execution_count": 8,
   "metadata": {},
   "outputs": [
    {
     "data": {
      "text/plain": [
       "0    thr\n",
       "1    thr\n",
       "2    thr\n",
       "3    thr\n",
       "4    thr\n",
       "Name: resname, dtype: object"
      ]
     },
     "execution_count": 8,
     "metadata": {},
     "output_type": "execute_result"
    }
   ],
   "source": [
    "# access DataFrame\n",
    "prot.df.resname.str.lower().head()"
   ]
  },
  {
   "cell_type": "markdown",
   "metadata": {},
   "source": [
    "You can choose whether to initialize the DataFrame when generating Protein or not, in which case will need to call Protein.generate_dataframe()"
   ]
  },
  {
   "cell_type": "code",
   "execution_count": 9,
   "metadata": {
    "collapsed": true
   },
   "outputs": [],
   "source": [
    "prot = Protein(pdb, generate_dataframe=False)\n",
    "prot.df # nothing happens!"
   ]
  },
  {
   "cell_type": "markdown",
   "metadata": {},
   "source": [
    "So first you will need to call "
   ]
  },
  {
   "cell_type": "code",
   "execution_count": 10,
   "metadata": {
    "collapsed": true
   },
   "outputs": [],
   "source": [
    "prot.generate_dataframe()"
   ]
  },
  {
   "cell_type": "code",
   "execution_count": 11,
   "metadata": {},
   "outputs": [
    {
     "data": {
      "text/plain": [
       "0    thr\n",
       "1    thr\n",
       "2    thr\n",
       "3    thr\n",
       "4    thr\n",
       "Name: resname, dtype: object"
      ]
     },
     "execution_count": 11,
     "metadata": {},
     "output_type": "execute_result"
    }
   ],
   "source": [
    "prot.df.resname.str.lower().head()"
   ]
  },
  {
   "cell_type": "markdown",
   "metadata": {},
   "source": [
    "When generating the DataFrame you can choose to raise an exception or not if there are null values in coordinates column. Default is not to raise error but to generate null values, but you can change this behaviour."
   ]
  },
  {
   "cell_type": "code",
   "execution_count": 12,
   "metadata": {},
   "outputs": [
    {
     "data": {
      "text/plain": [
       "(1204, 12)"
      ]
     },
     "execution_count": 12,
     "metadata": {},
     "output_type": "execute_result"
    }
   ],
   "source": [
    "prot.df[~prot.df.coord.isnull()].shape # not-null coordinates"
   ]
  },
  {
   "cell_type": "code",
   "execution_count": 13,
   "metadata": {},
   "outputs": [
    {
     "data": {
      "text/plain": [
       "(0, 12)"
      ]
     },
     "execution_count": 13,
     "metadata": {},
     "output_type": "execute_result"
    }
   ],
   "source": [
    "prot.df[prot.df.coord.isnull()].shape # null coordinates"
   ]
  },
  {
   "cell_type": "markdown",
   "metadata": {},
   "source": [
    "## Structure model"
   ]
  },
  {
   "cell_type": "code",
   "execution_count": 14,
   "metadata": {
    "collapsed": true
   },
   "outputs": [],
   "source": [
    "prot.df = prot.df[~prot.df.coord.isnull()]"
   ]
  },
  {
   "cell_type": "code",
   "execution_count": 15,
   "metadata": {},
   "outputs": [
    {
     "data": {
      "text/html": [
       "<div>\n",
       "<style scoped>\n",
       "    .dataframe tbody tr th:only-of-type {\n",
       "        vertical-align: middle;\n",
       "    }\n",
       "\n",
       "    .dataframe tbody tr th {\n",
       "        vertical-align: top;\n",
       "    }\n",
       "\n",
       "    .dataframe thead th {\n",
       "        text-align: right;\n",
       "    }\n",
       "</style>\n",
       "<table border=\"1\" class=\"dataframe\">\n",
       "  <thead>\n",
       "    <tr style=\"text-align: right;\">\n",
       "      <th></th>\n",
       "      <th>bfactor</th>\n",
       "      <th>chain</th>\n",
       "      <th>coord</th>\n",
       "      <th>disordered_flag</th>\n",
       "      <th>element</th>\n",
       "      <th>full_id</th>\n",
       "      <th>mass</th>\n",
       "      <th>resname</th>\n",
       "      <th>occupancy</th>\n",
       "      <th>x</th>\n",
       "      <th>y</th>\n",
       "      <th>z</th>\n",
       "    </tr>\n",
       "  </thead>\n",
       "  <tbody>\n",
       "    <tr>\n",
       "      <th>0</th>\n",
       "      <td>24.56</td>\n",
       "      <td>A</td>\n",
       "      <td>[-13.443, 0.459, 26.82]</td>\n",
       "      <td>0</td>\n",
       "      <td>N</td>\n",
       "      <td>(pdb_id, 0, A, ( , 6,  ), (N,  ))</td>\n",
       "      <td>14.0067</td>\n",
       "      <td>THR</td>\n",
       "      <td>1.0</td>\n",
       "      <td>-13.443</td>\n",
       "      <td>0.459</td>\n",
       "      <td>26.820000</td>\n",
       "    </tr>\n",
       "    <tr>\n",
       "      <th>1</th>\n",
       "      <td>24.95</td>\n",
       "      <td>A</td>\n",
       "      <td>[-12.624, 0.502, 28.063]</td>\n",
       "      <td>0</td>\n",
       "      <td>C</td>\n",
       "      <td>(pdb_id, 0, A, ( , 6,  ), (CA,  ))</td>\n",
       "      <td>12.0107</td>\n",
       "      <td>THR</td>\n",
       "      <td>1.0</td>\n",
       "      <td>-12.624</td>\n",
       "      <td>0.502</td>\n",
       "      <td>28.063000</td>\n",
       "    </tr>\n",
       "    <tr>\n",
       "      <th>2</th>\n",
       "      <td>26.52</td>\n",
       "      <td>A</td>\n",
       "      <td>[-13.312, -0.216, 29.261]</td>\n",
       "      <td>0</td>\n",
       "      <td>C</td>\n",
       "      <td>(pdb_id, 0, A, ( , 6,  ), (CB,  ))</td>\n",
       "      <td>12.0107</td>\n",
       "      <td>THR</td>\n",
       "      <td>1.0</td>\n",
       "      <td>-13.312</td>\n",
       "      <td>-0.216</td>\n",
       "      <td>29.261000</td>\n",
       "    </tr>\n",
       "    <tr>\n",
       "      <th>3</th>\n",
       "      <td>29.76</td>\n",
       "      <td>A</td>\n",
       "      <td>[-14.35, -1.084, 28.788]</td>\n",
       "      <td>0</td>\n",
       "      <td>O</td>\n",
       "      <td>(pdb_id, 0, A, ( , 6,  ), (OG1,  ))</td>\n",
       "      <td>15.9994</td>\n",
       "      <td>THR</td>\n",
       "      <td>1.0</td>\n",
       "      <td>-14.350</td>\n",
       "      <td>-1.084</td>\n",
       "      <td>28.788000</td>\n",
       "    </tr>\n",
       "    <tr>\n",
       "      <th>4</th>\n",
       "      <td>26.72</td>\n",
       "      <td>A</td>\n",
       "      <td>[-13.915, 0.806, 30.256]</td>\n",
       "      <td>0</td>\n",
       "      <td>C</td>\n",
       "      <td>(pdb_id, 0, A, ( , 6,  ), (CG2,  ))</td>\n",
       "      <td>12.0107</td>\n",
       "      <td>THR</td>\n",
       "      <td>1.0</td>\n",
       "      <td>-13.915</td>\n",
       "      <td>0.806</td>\n",
       "      <td>30.256001</td>\n",
       "    </tr>\n",
       "  </tbody>\n",
       "</table>\n",
       "</div>"
      ],
      "text/plain": [
       "   bfactor chain                      coord  disordered_flag element  \\\n",
       "0    24.56     A    [-13.443, 0.459, 26.82]                0       N   \n",
       "1    24.95     A   [-12.624, 0.502, 28.063]                0       C   \n",
       "2    26.52     A  [-13.312, -0.216, 29.261]                0       C   \n",
       "3    29.76     A   [-14.35, -1.084, 28.788]                0       O   \n",
       "4    26.72     A   [-13.915, 0.806, 30.256]                0       C   \n",
       "\n",
       "                               full_id     mass resname  occupancy       x  \\\n",
       "0    (pdb_id, 0, A, ( , 6,  ), (N,  ))  14.0067     THR        1.0 -13.443   \n",
       "1   (pdb_id, 0, A, ( , 6,  ), (CA,  ))  12.0107     THR        1.0 -12.624   \n",
       "2   (pdb_id, 0, A, ( , 6,  ), (CB,  ))  12.0107     THR        1.0 -13.312   \n",
       "3  (pdb_id, 0, A, ( , 6,  ), (OG1,  ))  15.9994     THR        1.0 -14.350   \n",
       "4  (pdb_id, 0, A, ( , 6,  ), (CG2,  ))  12.0107     THR        1.0 -13.915   \n",
       "\n",
       "       y          z  \n",
       "0  0.459  26.820000  \n",
       "1  0.502  28.063000  \n",
       "2 -0.216  29.261000  \n",
       "3 -1.084  28.788000  \n",
       "4  0.806  30.256001  "
      ]
     },
     "execution_count": 15,
     "metadata": {},
     "output_type": "execute_result"
    }
   ],
   "source": [
    "prot.df.head()"
   ]
  },
  {
   "cell_type": "code",
   "execution_count": 16,
   "metadata": {
    "collapsed": true
   },
   "outputs": [],
   "source": [
    "prot.df[\"atom_name\"] = prot.df[\"full_id\"].apply(lambda x: x[4][0])"
   ]
  },
  {
   "cell_type": "code",
   "execution_count": 17,
   "metadata": {
    "collapsed": true
   },
   "outputs": [],
   "source": [
    "atoms = prot.df.loc[prot.df[\"atom_name\"] == \"CA\", \"coord\"] "
   ]
  },
  {
   "cell_type": "code",
   "execution_count": 18,
   "metadata": {
    "collapsed": true
   },
   "outputs": [],
   "source": [
    "import numpy as np\n",
    "atoms = np.array([list(i) for i in atoms]) # esto hay que resolverlo, para que pueda tomar listas y series directamente"
   ]
  },
  {
   "cell_type": "markdown",
   "metadata": {},
   "source": [
    "Now we can generate a 3d mesh representation of the protein using Delaunay"
   ]
  },
  {
   "cell_type": "code",
   "execution_count": 19,
   "metadata": {
    "collapsed": true
   },
   "outputs": [],
   "source": [
    "prot.generate_structure(atoms)"
   ]
  },
  {
   "cell_type": "markdown",
   "metadata": {},
   "source": [
    "You can access structure from .structure"
   ]
  },
  {
   "cell_type": "code",
   "execution_count": 20,
   "metadata": {},
   "outputs": [
    {
     "data": {
      "text/plain": [
       "<biograph.structure.StructureModel at 0x7ff2622a0cc0>"
      ]
     },
     "execution_count": 20,
     "metadata": {},
     "output_type": "execute_result"
    }
   ],
   "source": [
    "prot.structure"
   ]
  },
  {
   "cell_type": "markdown",
   "metadata": {},
   "source": [
    "In addition, you can plot the structure from different views. A step in the triangulation process is needed to define the representation"
   ]
  },
  {
   "cell_type": "code",
   "execution_count": 29,
   "metadata": {},
   "outputs": [
    {
     "data": {
      "image/png": "[encoded data removed]",
      "text/plain": [
       "<Figure size 432x288 with 1 Axes>"
      ]
     },
     "metadata": {},
     "output_type": "display_data"
    }
   ],
   "source": [
    "%matplotlib inline\n",
    "prot.structure.plot(389, 5)"
   ]
  },
  {
   "cell_type": "code",
   "execution_count": 31,
   "metadata": {},
   "outputs": [
    {
     "data": {
      "image/png": "[encoded data removed]",
      "text/plain": [
       "<Figure size 432x288 with 1 Axes>"
      ]
     },
     "metadata": {},
     "output_type": "display_data"
    }
   ],
   "source": [
    "prot.structure.plot(389, 4)"
   ]
  },
  {
   "cell_type": "markdown",
   "metadata": {},
   "source": [
    "### Using persistent homology"
   ]
  },
  {
   "cell_type": "code",
   "execution_count": 23,
   "metadata": {
    "collapsed": true
   },
   "outputs": [],
   "source": [
    "from biograph.structure import Perseus\n",
    "perseus = Perseus()"
   ]
  },
  {
   "cell_type": "code",
   "execution_count": 24,
   "metadata": {},
   "outputs": [
    {
     "data": {
      "text/plain": [
       "<biograph.protein.Protein at 0x7ff26209fb38>"
      ]
     },
     "execution_count": 24,
     "metadata": {},
     "output_type": "execute_result"
    }
   ],
   "source": [
    "perseus.execute_persistent_hom(prot)"
   ]
  },
  {
   "cell_type": "code",
   "execution_count": 25,
   "metadata": {},
   "outputs": [
    {
     "data": {
      "text/plain": [
       "{'b0_step': 357, 'b1_step': 389, 'b2_step': 566, 'b3_step': 566}"
      ]
     },
     "execution_count": 25,
     "metadata": {},
     "output_type": "execute_result"
    }
   ],
   "source": [
    "prot.structure.persistent_hom_params"
   ]
  },
  {
   "cell_type": "markdown",
   "metadata": {},
   "source": [
    "## Graph models"
   ]
  },
  {
   "cell_type": "code",
   "execution_count": 32,
   "metadata": {
    "collapsed": true
   },
   "outputs": [],
   "source": [
    "from biograph.graph_models import StructureGraphGenerator"
   ]
  },
  {
   "cell_type": "code",
   "execution_count": 34,
   "metadata": {
    "collapsed": true
   },
   "outputs": [],
   "source": [
    "graph_model = StructureGraphGenerator()"
   ]
  },
  {
   "cell_type": "code",
   "execution_count": 35,
   "metadata": {
    "collapsed": true
   },
   "outputs": [],
   "source": [
    "prot.generate_graph(graph_model, {\"step\":389})"
   ]
  },
  {
   "cell_type": "code",
   "execution_count": 39,
   "metadata": {},
   "outputs": [
    {
     "data": {
      "text/plain": [
       "<networkx.classes.graph.Graph at 0x7ff25ff0b518>"
      ]
     },
     "execution_count": 39,
     "metadata": {},
     "output_type": "execute_result"
    }
   ],
   "source": [
    "prot.graph"
   ]
  },
  {
   "cell_type": "code",
   "execution_count": null,
   "metadata": {
    "collapsed": true
   },
   "outputs": [],
   "source": []
  }
 ],
 "metadata": {
  "kernelspec": {
   "display_name": "Python (base)",
   "language": "python",
   "name": "base"
  },
  "language_info": {
   "codemirror_mode": {
    "name": "ipython",
    "version": 3
   },
   "file_extension": ".py",
   "mimetype": "text/x-python",
   "name": "python",
   "nbconvert_exporter": "python",
   "pygments_lexer": "ipython3",
   "version": "3.6.2"
  }
 },
 "nbformat": 4,
 "nbformat_minor": 2
}
